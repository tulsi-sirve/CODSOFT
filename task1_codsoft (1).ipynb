{
  "nbformat": 4,
  "nbformat_minor": 0,
  "metadata": {
    "colab": {
      "provenance": []
    },
    "kernelspec": {
      "name": "python3",
      "display_name": "Python 3"
    },
    "language_info": {
      "name": "python"
    }
  },
  "cells": [
    {
      "cell_type": "code",
      "execution_count": null,
      "metadata": {
        "id": "yaknWdHNau-9"
      },
      "outputs": [],
      "source": [
        "# Name :- Tulsi Sirve\n",
        "# Domain:- Data Science\n",
        "# Company:- CODSOFT\n",
        "# Batch:- April Batch A43\n"
      ]
    },
    {
      "cell_type": "code",
      "source": [
        "#task 1 - Titanic survival Predication\n",
        "\n",
        "import pandas as pd\n",
        "import numpy as np\n",
        "from sklearn.model_selection import train_test_split\n",
        "from sklearn.linear_model import LogisticRegression\n",
        "from sklearn.metrics import accuracy_score, classification_report\n",
        "\n",
        "data = pd.read_csv('/content/Titanic-Dataset.csv')\n",
        "data.columns = data.columns.str.strip()\n",
        "\n",
        "print(data.columns)\n",
        "\n",
        "# Drop irrelevant columns or handle missing values as needed\n",
        "data.drop(['PassengerId', 'Name', 'Ticket', 'Cabin', 'Embarked'], axis=1, inplace=True)\n",
        "data['Sex'] = data['Sex'].map({'male': 0, 'female': 1})\n",
        "data.fillna(data.mean(), inplace=True)\n",
        "\n",
        "# Split the data into features and target variable\n",
        "X = data.drop('Survived', axis=1)\n",
        "y = data['Survived']\n",
        "\n",
        "print(\"X:\")\n",
        "print(X)\n",
        "print(\"y:\")\n",
        "print(y)\n",
        "\n",
        "# Split the data into training(train) and testing(test) sets\n",
        "X_train, X_test, y_train, y_test = train_test_split(X, y, test_size=0.2, random_state=42)\n",
        "\n",
        "# Model training\n",
        "model = LogisticRegression()\n",
        "model.fit(X_train, y_train)\n",
        "\n",
        "# Model evaluation\n",
        "y_predict=model.predict(X_test)\n",
        "accuracy = accuracy_score(y_test, y_predict)\n",
        "print(\"\\nAccuracy:\", accuracy)\n",
        "print(\"\\nClassification Report:\")\n",
        "print(\"\\n\",classification_report(y_test, y_predict))\n"
      ],
      "metadata": {
        "colab": {
          "base_uri": "https://localhost:8080/"
        },
        "id": "6woNJNk5YAbu",
        "outputId": "62ead39d-0da9-41a6-f187-ff4b9b0c09a0"
      },
      "execution_count": null,
      "outputs": [
        {
          "output_type": "stream",
          "name": "stdout",
          "text": [
            "Index(['PassengerId', 'Survived', 'Pclass', 'Name', 'Sex', 'Age', 'SibSp',\n",
            "       'Parch', 'Ticket', 'Fare', 'Cabin', 'Embarked'],\n",
            "      dtype='object')\n",
            "X:\n",
            "     Pclass  Sex        Age  SibSp  Parch     Fare\n",
            "0         3    0  22.000000      1      0   7.2500\n",
            "1         1    1  38.000000      1      0  71.2833\n",
            "2         3    1  26.000000      0      0   7.9250\n",
            "3         1    1  35.000000      1      0  53.1000\n",
            "4         3    0  35.000000      0      0   8.0500\n",
            "..      ...  ...        ...    ...    ...      ...\n",
            "886       2    0  27.000000      0      0  13.0000\n",
            "887       1    1  19.000000      0      0  30.0000\n",
            "888       3    1  29.699118      1      2  23.4500\n",
            "889       1    0  26.000000      0      0  30.0000\n",
            "890       3    0  32.000000      0      0   7.7500\n",
            "\n",
            "[891 rows x 6 columns]\n",
            "y:\n",
            "0      0\n",
            "1      1\n",
            "2      1\n",
            "3      1\n",
            "4      0\n",
            "      ..\n",
            "886    0\n",
            "887    1\n",
            "888    0\n",
            "889    1\n",
            "890    0\n",
            "Name: Survived, Length: 891, dtype: int64\n",
            "\n",
            "Accuracy: 0.8100558659217877\n",
            "\n",
            "Classification Report:\n",
            "\n",
            "               precision    recall  f1-score   support\n",
            "\n",
            "           0       0.81      0.88      0.84       105\n",
            "           1       0.80      0.72      0.76        74\n",
            "\n",
            "    accuracy                           0.81       179\n",
            "   macro avg       0.81      0.80      0.80       179\n",
            "weighted avg       0.81      0.81      0.81       179\n",
            "\n"
          ]
        }
      ]
    },
    {
      "cell_type": "code",
      "source": [],
      "metadata": {
        "id": "wwMVom7DeKx1"
      },
      "execution_count": null,
      "outputs": []
    }
  ]
}